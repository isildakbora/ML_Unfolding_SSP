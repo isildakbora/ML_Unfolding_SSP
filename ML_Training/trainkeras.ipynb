{
 "cells": [
  {
   "cell_type": "code",
   "execution_count": 1,
   "metadata": {},
   "outputs": [
    {
     "name": "stdout",
     "output_type": "stream",
     "text": [
      "Welcome to JupyROOT 6.19/01\n"
     ]
    },
    {
     "name": "stderr",
     "output_type": "stream",
     "text": [
      "Using TensorFlow backend.\n"
     ]
    }
   ],
   "source": [
    "import matplotlib.pyplot as plt\n",
    "\n",
    "import ROOT, root_pandas, root_numpy, numpy\n",
    "from sklearn.model_selection import train_test_split\n",
    "from sklearn import preprocessing\n",
    "\n",
    "\n",
    "# import necessary keras modules/functions\n",
    "import keras\n",
    "from keras.models import Sequential, Model\n",
    "from keras.layers import Input, Flatten, Dense, Dropout, MaxPooling2D\n",
    "from keras.layers import BatchNormalization, Activation, AveragePooling2D, Concatenate\n",
    "\n",
    "from utils import PlotLearning"
   ]
  },
  {
   "cell_type": "code",
   "execution_count": 2,
   "metadata": {},
   "outputs": [
    {
     "data": {
      "text/plain": [
       "54404"
      ]
     },
     "execution_count": 2,
     "metadata": {},
     "output_type": "execute_result"
    },
    {
     "name": "stdout",
     "output_type": "stream",
     "text": [
      "TFile**\t\t../FlatTree_Production/ML_Unfolding_tree_100k.root\t\n",
      " TFile*\t\t../FlatTree_Production/ML_Unfolding_tree_100k.root\t\n",
      "  KEY: TTree\toutTree;1\toutTree\n",
      "  KEY: TH1F\th_Mass_Z_gen;1\th_Mass_Z_gen\n",
      "  KEY: TH1F\th_Mass_Z_reco;1\th_Mass_Z_reco\n"
     ]
    }
   ],
   "source": [
    "file = ROOT.TFile(\"../FlatTree_Production/ML_Unfolding_tree_100k.root\")\n",
    "outTree = file.outTree\n",
    "n_events = outTree.GetEntries()\n",
    "n_events"
   ]
  },
  {
   "cell_type": "code",
   "execution_count": 3,
   "metadata": {},
   "outputs": [
    {
     "name": "stdout",
     "output_type": "stream",
     "text": [
      "x_train shape: (43523, 25)\n",
      "43523 train samples\n",
      "10881 test samples\n"
     ]
    }
   ],
   "source": [
    "data = [list(i) for i in root_numpy.tree2array(outTree, start=0, stop = n_events)]\n",
    "\n",
    "x = numpy.array([i[:-1] for i in data])\n",
    "y = numpy.array([i[-1] for i in data])\n",
    "len(x[0])\n",
    "\n",
    "x = preprocessing.scale(x)\n",
    "x_train, x_test, y_train, y_test = train_test_split(x, y, test_size=0.2, random_state=42)\n",
    "\n",
    "\n",
    "print('x_train shape:', x_train.shape)\n",
    "print(x_train.shape[0], 'train samples')\n",
    "print(x_test.shape[0], 'test samples')"
   ]
  },
  {
   "cell_type": "code",
   "execution_count": 4,
   "metadata": {},
   "outputs": [
    {
     "name": "stdout",
     "output_type": "stream",
     "text": [
      "WARNING:tensorflow:From /Library/Frameworks/Python.framework/Versions/3.7/lib/python3.7/site-packages/tensorflow/python/framework/op_def_library.py:263: colocate_with (from tensorflow.python.framework.ops) is deprecated and will be removed in a future version.\n",
      "Instructions for updating:\n",
      "Colocations handled automatically by placer.\n",
      "_________________________________________________________________\n",
      "Layer (type)                 Output Shape              Param #   \n",
      "=================================================================\n",
      "dense_1 (Dense)              (None, 100)               2600      \n",
      "_________________________________________________________________\n",
      "dense_2 (Dense)              (None, 80)                8080      \n",
      "_________________________________________________________________\n",
      "dense_3 (Dense)              (None, 80)                6480      \n",
      "_________________________________________________________________\n",
      "dense_4 (Dense)              (None, 20)                1620      \n",
      "_________________________________________________________________\n",
      "dense_5 (Dense)              (None, 1)                 21        \n",
      "=================================================================\n",
      "Total params: 18,801\n",
      "Trainable params: 18,801\n",
      "Non-trainable params: 0\n",
      "_________________________________________________________________\n"
     ]
    }
   ],
   "source": [
    "# Build the model\n",
    "\n",
    "model = Sequential()\n",
    "\n",
    "model.add(Dense(100, input_dim = 25, kernel_initializer='normal', activation='relu'))\n",
    "model.add(Dense(80, activation='relu'))\n",
    "model.add(Dense(80, activation='relu'))\n",
    "model.add(Dense(20, activation='relu'))\n",
    "model.add(Dense(1, activation='linear'))\n",
    "model.summary()\n",
    "model.compile(loss='mean_squared_logarithmic_error', optimizer='adam', metrics=['mse','mae'])"
   ]
  },
  {
   "cell_type": "code",
   "execution_count": 6,
   "metadata": {},
   "outputs": [],
   "source": [
    "# Define additional callbacks\n",
    "\n",
    "def reduce_lr(patience_lr):\n",
    "    reduce_lr_loss = keras.callbacks.ReduceLROnPlateau(monitor='val_mean_squared_error', factor=0.5, patience=patience_lr, verbose=1, min_delta=1e-4, mode='auto')\n",
    "    return reduce_lr_loss\n",
    "\n",
    "callbacks = [reduce_lr(patience_lr=20), PlotLearning()]"
   ]
  },
  {
   "cell_type": "code",
   "execution_count": null,
   "metadata": {},
   "outputs": [],
   "source": [
    "# \n",
    "history = model.fit(x_train, y_train, epochs=200, batch_size=64,  verbose=1, validation_split=0.2, callbacks = callbacks)"
   ]
  }
 ],
 "metadata": {
  "kernelspec": {
   "display_name": "Python 3",
   "language": "python",
   "name": "python3"
  },
  "language_info": {
   "codemirror_mode": {
    "name": "ipython",
    "version": 3
   },
   "file_extension": ".py",
   "mimetype": "text/x-python",
   "name": "python",
   "nbconvert_exporter": "python",
   "pygments_lexer": "ipython3",
   "version": "3.7.3"
  }
 },
 "nbformat": 4,
 "nbformat_minor": 2
}
