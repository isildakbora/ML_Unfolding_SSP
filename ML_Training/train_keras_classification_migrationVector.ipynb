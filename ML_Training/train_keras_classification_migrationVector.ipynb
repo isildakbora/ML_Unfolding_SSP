{
 "cells": [
  {
   "cell_type": "code",
   "execution_count": 1,
   "metadata": {},
   "outputs": [
    {
     "name": "stdout",
     "output_type": "stream",
     "text": [
      "Welcome to JupyROOT 6.18/00\n"
     ]
    },
    {
     "name": "stderr",
     "output_type": "stream",
     "text": [
      "Using TensorFlow backend.\n"
     ]
    }
   ],
   "source": [
    "import matplotlib.pyplot as plt\n",
    "\n",
    "import numpy as np\n",
    "import ROOT, uproot\n",
    "#root_numpy\n",
    "from sklearn.model_selection import train_test_split\n",
    "from sklearn import preprocessing\n",
    "from sklearn import feature_selection\n",
    "\n",
    "\n",
    "# import necessary keras modules/functions\n",
    "import keras\n",
    "from keras.models import Sequential, Model\n",
    "from keras.layers import Input, Flatten, Dense, Dropout, MaxPooling2D\n",
    "from keras.layers import BatchNormalization, Activation, AveragePooling2D, Concatenate\n",
    "from keras import regularizers\n",
    "from utils import PlotLearning"
   ]
  },
  {
   "cell_type": "code",
   "execution_count": 2,
   "metadata": {},
   "outputs": [
    {
     "data": {
      "text/plain": [
       "['nRecLep',\n",
       " 'recLepPt1',\n",
       " 'recLepEta1',\n",
       " 'recLepPhi1',\n",
       " 'recLepIsoVar1',\n",
       " 'recLepCharge1',\n",
       " 'recLepPDGID1',\n",
       " 'recLepPt2',\n",
       " 'recLepEta2',\n",
       " 'recLepPhi2',\n",
       " 'recLepIsoVar2',\n",
       " 'recLepCharge2',\n",
       " 'recLepPDGID2',\n",
       " 'recLepInvMass',\n",
       " 'genLepInvMass']"
      ]
     },
     "execution_count": 2,
     "metadata": {},
     "output_type": "execute_result"
    }
   ],
   "source": [
    "events = uproot.open(\"../FlatTree_Production/Z_Candidates_100k.root\")[\"candidateTree\"]\n",
    "events.keys()"
   ]
  },
  {
   "cell_type": "code",
   "execution_count": 3,
   "metadata": {},
   "outputs": [],
   "source": [
    "data = events.arrays(events.keys())\n",
    "\n",
    "array = []\n",
    "for i in events.keys():\n",
    "    array.append(events.array(i))\n",
    "\n",
    "array = np.array(array)"
   ]
  },
  {
   "cell_type": "code",
   "execution_count": 4,
   "metadata": {},
   "outputs": [
    {
     "name": "stdout",
     "output_type": "stream",
     "text": [
      "(19699, 14)\n",
      "(19699, 12)\n",
      "19699\n",
      "62.1452865628\n",
      "('x_train shape:', (15759, 12))\n",
      "(15759, 'train samples')\n",
      "(3940, 'test samples')\n"
     ]
    }
   ],
   "source": [
    "data = array.T\n",
    "nBins=20\n",
    "kappa=8\n",
    "nvar=14\n",
    "massMin=50\n",
    "massMax=130\n",
    "Z_mass=91.1876\n",
    "epochs=50;\n",
    "#[list(i) for i in root_numpy.tree2array(outTree, start=0, stop = n_events)]\n",
    "\n",
    "binwidth = ((massMax-massMin)/nBins)\n",
    "bins = np.array(range(massMin, massMax+binwidth, binwidth))\n",
    "#print(bins)\n",
    "x = np.array([i[:-1] for i in data])\n",
    "xNew = []\n",
    "y = np.array([i[-1] for i in data])\n",
    "yNew = []\n",
    "for i in range(len(y)): \n",
    "    migVec = np.searchsorted(bins, y[i]) - np.searchsorted(bins, x[i][-1])\n",
    "    if abs(migVec)<2 : \n",
    "        xNew.append(x[i])\n",
    "        yNew.append(migVec)\n",
    "\n",
    "xNew = np.array(xNew)\n",
    "print(xNew.shape)\n",
    "xNew = feature_selection.SelectKBest(k=12).fit_transform(xNew, yNew)    \n",
    "print(xNew.shape)\n",
    "\n",
    "a = yNew.count(0)\n",
    "print(len(yNew))\n",
    "print(float((yNew.count(0))) / float(len(yNew))*100)\n",
    "ycat = keras.utils.to_categorical(yNew, np.amax(yNew)-np.amin(yNew)+1)\n",
    "xNew = preprocessing.scale(xNew)\n",
    "x_train, x_test, y_train, y_test = train_test_split(xNew, ycat, test_size=0.2, random_state=42)\n",
    "\n",
    "#print(x_train.shape)\n",
    "\n",
    "#x_train = x_train.reshape(x_train.shape[0], x_train.shape[1], 1)\n",
    "#x_test = x_test.reshape(x_test.shape[0], x_test.shape[1], 1)\n",
    "\n",
    "print('x_train shape:', x_train.shape)\n",
    "print(x_train.shape[0], 'train samples')\n",
    "print(x_test.shape[0], 'test samples')\n",
    "#print(ycat)[:20]"
   ]
  },
  {
   "cell_type": "code",
   "execution_count": 5,
   "metadata": {},
   "outputs": [
    {
     "name": "stderr",
     "output_type": "stream",
     "text": [
      "WARNING: Logging before flag parsing goes to stderr.\n",
      "W0808 11:29:10.265372 139989198526272 deprecation_wrapper.py:119] From /home/aidanwiederhold/.local/lib/python2.7/site-packages/keras/backend/tensorflow_backend.py:74: The name tf.get_default_graph is deprecated. Please use tf.compat.v1.get_default_graph instead.\n",
      "\n",
      "W0808 11:29:10.276720 139989198526272 deprecation_wrapper.py:119] From /home/aidanwiederhold/.local/lib/python2.7/site-packages/keras/backend/tensorflow_backend.py:517: The name tf.placeholder is deprecated. Please use tf.compat.v1.placeholder instead.\n",
      "\n",
      "W0808 11:29:10.279258 139989198526272 deprecation_wrapper.py:119] From /home/aidanwiederhold/.local/lib/python2.7/site-packages/keras/backend/tensorflow_backend.py:4115: The name tf.random_normal is deprecated. Please use tf.random.normal instead.\n",
      "\n",
      "W0808 11:29:10.291268 139989198526272 deprecation_wrapper.py:119] From /home/aidanwiederhold/.local/lib/python2.7/site-packages/keras/backend/tensorflow_backend.py:4138: The name tf.random_uniform is deprecated. Please use tf.random.uniform instead.\n",
      "\n",
      "W0808 11:29:10.329595 139989198526272 deprecation_wrapper.py:119] From /home/aidanwiederhold/.local/lib/python2.7/site-packages/keras/optimizers.py:790: The name tf.train.Optimizer is deprecated. Please use tf.compat.v1.train.Optimizer instead.\n",
      "\n",
      "W0808 11:29:10.334428 139989198526272 deprecation_wrapper.py:119] From /home/aidanwiederhold/.local/lib/python2.7/site-packages/keras/backend/tensorflow_backend.py:3376: The name tf.log is deprecated. Please use tf.math.log instead.\n",
      "\n",
      "W0808 11:29:10.339998 139989198526272 deprecation.py:323] From /home/aidanwiederhold/.local/lib/python2.7/site-packages/tensorflow/python/ops/nn_impl.py:180: where (from tensorflow.python.ops.array_ops) is deprecated and will be removed in a future version.\n",
      "Instructions for updating:\n",
      "Use tf.where in 2.0, which has the same broadcast rule as np.where\n"
     ]
    },
    {
     "name": "stdout",
     "output_type": "stream",
     "text": [
      "_________________________________________________________________\n",
      "Layer (type)                 Output Shape              Param #   \n",
      "=================================================================\n",
      "dense_1 (Dense)              (None, 300)               3900      \n",
      "_________________________________________________________________\n",
      "dense_2 (Dense)              (None, 800)               240800    \n",
      "_________________________________________________________________\n",
      "dense_3 (Dense)              (None, 500)               400500    \n",
      "_________________________________________________________________\n",
      "dense_4 (Dense)              (None, 3)                 1503      \n",
      "=================================================================\n",
      "Total params: 646,703\n",
      "Trainable params: 646,703\n",
      "Non-trainable params: 0\n",
      "_________________________________________________________________\n"
     ]
    }
   ],
   "source": [
    "model = Sequential()\n",
    "#,input_shape=(64, nvar)\n",
    "model.add(Dense(300, input_dim=xNew.shape[1], kernel_initializer = 'normal', activation='linear'))\n",
    "#model.add(Flatten())\n",
    "model.add(Dense(800,activation='sigmoid'))\n",
    "#model.add(Dropout(0.2, seed=42))\n",
    "#model.add(Dense(800,activation='exponential'))\n",
    "model.add(Dense(500,activation='sigmoid'))\n",
    "    #,kernel_regularizer=regularizers.l2(0.01),activity_regularizer=regularizers.l1(0.01))\n",
    "    # model.add(Dropout(0.25))\n",
    "    # model.add(Dense(2*NBins,activation='relu'))\n",
    "    # model.add(Dropout(0.5))\n",
    "model.add(Dense(3,activation='softmax'))\n",
    "model.summary()\n",
    "model.compile(loss=keras.losses.binary_crossentropy, optimizer=keras.optimizers.Adadelta(), metrics=['accuracy'])"
   ]
  },
  {
   "cell_type": "code",
   "execution_count": 6,
   "metadata": {},
   "outputs": [],
   "source": [
    "# Define additional callbacks\n",
    "\n",
    "def reduce_lr(patience_lr):\n",
    "    reduce_lr_loss = keras.callbacks.ReduceLROnPlateau(monitor='accuracy', factor=0.5, patience=patience_lr, verbose=1, min_delta=1e-4, mode='auto')\n",
    "    return reduce_lr_loss\n",
    "\n",
    "callbacks = [reduce_lr(patience_lr=20), PlotLearning()]"
   ]
  },
  {
   "cell_type": "code",
   "execution_count": null,
   "metadata": {},
   "outputs": [
    {
     "data": {
      "image/png": "[encoded data removed]",
      "text/plain": [
       "<Figure size 720x360 with 2 Axes>"
      ]
     },
     "metadata": {
      "needs_background": "light"
     },
     "output_type": "display_data"
    },
    {
     "name": "stdout",
     "output_type": "stream",
     "text": [
      "Epoch 90/200\n",
      " 5376/15759 [=========>....................] - ETA: 1s - loss: 0.3884 - acc: 0.8178"
     ]
    }
   ],
   "source": [
    "history = model.fit(x_train, y_train, epochs=200, batch_size=64,  verbose=1, validation_data=(x_test, y_test), callbacks = callbacks)"
   ]
  },
  {
   "cell_type": "code",
   "execution_count": null,
   "metadata": {},
   "outputs": [],
   "source": []
  }
 ],
 "metadata": {
  "kernelspec": {
   "display_name": "Python 2",
   "language": "python",
   "name": "python3"
  },
  "language_info": {
   "codemirror_mode": {
    "name": "ipython",
    "version": 2
   },
   "file_extension": ".py",
   "mimetype": "text/x-python",
   "name": "python",
   "nbconvert_exporter": "python",
   "pygments_lexer": "ipython2",
   "version": "2.7.15+"
  }
 },
 "nbformat": 4,
 "nbformat_minor": 2
}
