{
 "cells": [
  {
   "cell_type": "code",
   "execution_count": 1,
   "metadata": {},
   "outputs": [
    {
     "name": "stdout",
     "output_type": "stream",
     "text": [
      "Welcome to JupyROOT 6.19/01\n"
     ]
    },
    {
     "name": "stderr",
     "output_type": "stream",
     "text": [
      "Using TensorFlow backend.\n"
     ]
    }
   ],
   "source": [
    "import matplotlib.pyplot as plt\n",
    "\n",
    "import numpy as np\n",
    "import ROOT, uproot\n",
    "#root_numpy\n",
    "from sklearn.model_selection import train_test_split\n",
    "from sklearn import preprocessing\n",
    "from sklearn import feature_selection\n",
    "\n",
    "\n",
    "# import necessary keras modules/functions\n",
    "import keras\n",
    "from keras.models import Sequential, Model\n",
    "from keras.layers import Input, Flatten, Dense, Dropout, MaxPooling2D\n",
    "from keras.layers import BatchNormalization, Activation, AveragePooling2D, Concatenate\n",
    "from keras import regularizers\n",
    "from utils import PlotLearning"
   ]
  },
  {
   "cell_type": "code",
   "execution_count": 2,
   "metadata": {},
   "outputs": [
    {
     "data": {
      "text/plain": [
       "[b'nRecLep',\n",
       " b'recLepPt1',\n",
       " b'recLepEta1',\n",
       " b'recLepPhi1',\n",
       " b'recLepIsoVar1',\n",
       " b'recLepCharge1',\n",
       " b'recLepPDGID1',\n",
       " b'recLepPt2',\n",
       " b'recLepEta2',\n",
       " b'recLepPhi2',\n",
       " b'recLepIsoVar2',\n",
       " b'recLepCharge2',\n",
       " b'recLepPDGID2',\n",
       " b'recLepInvMass',\n",
       " b'genLepInvMass']"
      ]
     },
     "execution_count": 2,
     "metadata": {},
     "output_type": "execute_result"
    }
   ],
   "source": [
    "events = uproot.open(\"../FlatTree_Production/Z_Candidates_100k.root\")[\"candidateTree\"]\n",
    "events.keys()"
   ]
  },
  {
   "cell_type": "code",
   "execution_count": 3,
   "metadata": {},
   "outputs": [],
   "source": [
    "data = events.arrays(events.keys())\n",
    "\n",
    "array = []\n",
    "for i in events.keys():\n",
    "    array.append(events.array(i))\n",
    "\n",
    "array = np.array(array)"
   ]
  },
  {
   "cell_type": "code",
   "execution_count": 4,
   "metadata": {},
   "outputs": [
    {
     "ename": "TypeError",
     "evalue": "'float' object cannot be interpreted as an integer",
     "output_type": "error",
     "traceback": [
      "\u001b[0;31m---------------------------------------------------------------------------\u001b[0m",
      "\u001b[0;31mTypeError\u001b[0m                                 Traceback (most recent call last)",
      "\u001b[0;32m<ipython-input-4-ed45cfb72567>\u001b[0m in \u001b[0;36m<module>\u001b[0;34m\u001b[0m\n\u001b[1;32m     10\u001b[0m \u001b[0;34m\u001b[0m\u001b[0m\n\u001b[1;32m     11\u001b[0m \u001b[0mbinwidth\u001b[0m \u001b[0;34m=\u001b[0m \u001b[0;34m(\u001b[0m\u001b[0;34m(\u001b[0m\u001b[0mmassMax\u001b[0m\u001b[0;34m-\u001b[0m\u001b[0mmassMin\u001b[0m\u001b[0;34m)\u001b[0m\u001b[0;34m/\u001b[0m\u001b[0mnBins\u001b[0m\u001b[0;34m)\u001b[0m\u001b[0;34m\u001b[0m\u001b[0;34m\u001b[0m\u001b[0m\n\u001b[0;32m---> 12\u001b[0;31m \u001b[0mbins\u001b[0m \u001b[0;34m=\u001b[0m \u001b[0mnp\u001b[0m\u001b[0;34m.\u001b[0m\u001b[0marray\u001b[0m\u001b[0;34m(\u001b[0m\u001b[0mrange\u001b[0m\u001b[0;34m(\u001b[0m\u001b[0mmassMin\u001b[0m\u001b[0;34m,\u001b[0m \u001b[0mmassMax\u001b[0m\u001b[0;34m+\u001b[0m\u001b[0mbinwidth\u001b[0m\u001b[0;34m,\u001b[0m \u001b[0mbinwidth\u001b[0m\u001b[0;34m)\u001b[0m\u001b[0;34m)\u001b[0m\u001b[0;34m\u001b[0m\u001b[0;34m\u001b[0m\u001b[0m\n\u001b[0m\u001b[1;32m     13\u001b[0m \u001b[0;31m#print(bins)\u001b[0m\u001b[0;34m\u001b[0m\u001b[0;34m\u001b[0m\u001b[0;34m\u001b[0m\u001b[0m\n\u001b[1;32m     14\u001b[0m \u001b[0mx\u001b[0m \u001b[0;34m=\u001b[0m \u001b[0mnp\u001b[0m\u001b[0;34m.\u001b[0m\u001b[0marray\u001b[0m\u001b[0;34m(\u001b[0m\u001b[0;34m[\u001b[0m\u001b[0mi\u001b[0m\u001b[0;34m[\u001b[0m\u001b[0;34m:\u001b[0m\u001b[0;34m-\u001b[0m\u001b[0;36m1\u001b[0m\u001b[0;34m]\u001b[0m \u001b[0;32mfor\u001b[0m \u001b[0mi\u001b[0m \u001b[0;32min\u001b[0m \u001b[0mdata\u001b[0m\u001b[0;34m]\u001b[0m\u001b[0;34m)\u001b[0m\u001b[0;34m\u001b[0m\u001b[0;34m\u001b[0m\u001b[0m\n",
      "\u001b[0;31mTypeError\u001b[0m: 'float' object cannot be interpreted as an integer"
     ]
    }
   ],
   "source": [
    "data = array.T\n",
    "nBins=20\n",
    "kappa=8\n",
    "nvar=14\n",
    "massMin=50\n",
    "massMax=130\n",
    "Z_mass=91.1876\n",
    "epochs=50;\n",
    "#[list(i) for i in root_numpy.tree2array(outTree, start=0, stop = n_events)]\n",
    "\n",
    "binwidth = ((massMax-massMin)/nBins)\n",
    "bins = np.array(range(massMin, massMax+binwidth, binwidth))\n",
    "#print(bins)\n",
    "x = np.array([i[:-1] for i in data])\n",
    "xNew = []\n",
    "y = np.array([i[-1] for i in data])\n",
    "yNew = []\n",
    "for i in range(len(y)): \n",
    "    migVec = np.searchsorted(bins, y[i]) - np.searchsorted(bins, x[i][-1])\n",
    "    if abs(migVec)<2 : \n",
    "        xNew.append(x[i])\n",
    "        yNew.append(migVec)\n",
    "\n",
    "#xNew = np.array(xNew)\n",
    "#print(xNew.shape)\n",
    "#xNew = feature_selection.SelectKBest(k=12).fit_transform(xNew, yNew)    \n",
    "#print(xNew.shape)\n",
    "\n",
    "a = yNew.count(0)\n",
    "print(len(yNew))\n",
    "print(float((yNew.count(0))) / float(len(yNew))*100)\n",
    "ycat = keras.utils.to_categorical(yNew, np.amax(yNew)-np.amin(yNew)+1)\n",
    "xNew = preprocessing.scale(xNew)\n",
    "x_train, x_test, y_train, y_test = train_test_split(xNew, ycat, test_size=0.2, random_state=42)\n",
    "\n",
    "#print(x_train.shape)\n",
    "\n",
    "#x_train = x_train.reshape(x_train.shape[0], x_train.shape[1], 1)\n",
    "#x_test = x_test.reshape(x_test.shape[0], x_test.shape[1], 1)\n",
    "\n",
    "print('x_train shape:', x_train.shape)\n",
    "print(x_train.shape[0], 'train samples')\n",
    "print(x_test.shape[0], 'test samples')\n",
    "#print(ycat)[:20]"
   ]
  },
  {
   "cell_type": "code",
   "execution_count": null,
   "metadata": {},
   "outputs": [],
   "source": [
    "model = Sequential()\n",
    "#,input_shape=(64, nvar)\n",
    "model.add(Dense(300, input_dim=xNew.shape[1], kernel_initializer = 'normal', activation='sigmoid'))\n",
    "#model.add(Flatten())\n",
    "model.add(Dense(800,activation='sigmoid'))\n",
    "#model.add(Dropout(0.2, seed=42))\n",
    "#model.add(Dense(800,activation='exponential'))\n",
    "model.add(Dense(500,activation='sigmoid'))\n",
    "    #,kernel_regularizer=regularizers.l2(0.01),activity_regularizer=regularizers.l1(0.01))\n",
    "    # model.add(Dropout(0.25))\n",
    "    # model.add(Dense(2*NBins,activation='relu'))\n",
    "    # model.add(Dropout(0.5))\n",
    "model.add(Dense(3,activation='sigmoid'))\n",
    "model.summary()\n",
    "model.compile(loss=keras.losses.binary_crossentropy, optimizer=keras.optimizers.Adadelta(), metrics=['accuracy'])"
   ]
  },
  {
   "cell_type": "code",
   "execution_count": null,
   "metadata": {},
   "outputs": [],
   "source": [
    "# Define additional callbacks\n",
    "\n",
    "def reduce_lr(patience_lr):\n",
    "    reduce_lr_loss = keras.callbacks.ReduceLROnPlateau(monitor='accuracy', factor=0.5, patience=patience_lr, verbose=1, min_delta=1e-4, mode='auto')\n",
    "    return reduce_lr_loss\n",
    "\n",
    "callbacks = [reduce_lr(patience_lr=20), PlotLearning(monitor=['loss', 'acc'])]"
   ]
  },
  {
   "cell_type": "code",
   "execution_count": null,
   "metadata": {},
   "outputs": [],
   "source": [
    "history = model.fit(x_train, y_train, epochs=200, batch_size=64,  verbose=1, validation_data=(x_test, y_test), callbacks = callbacks)"
   ]
  },
  {
   "cell_type": "code",
   "execution_count": null,
   "metadata": {},
   "outputs": [],
   "source": []
  },
  {
   "cell_type": "code",
   "execution_count": null,
   "metadata": {},
   "outputs": [],
   "source": []
  }
 ],
 "metadata": {
  "kernelspec": {
   "display_name": "Python 3",
   "language": "python",
   "name": "python3"
  },
  "language_info": {
   "codemirror_mode": {
    "name": "ipython",
    "version": 3
   },
   "file_extension": ".py",
   "mimetype": "text/x-python",
   "name": "python",
   "nbconvert_exporter": "python",
   "pygments_lexer": "ipython3",
   "version": "3.7.3"
  }
 },
 "nbformat": 4,
 "nbformat_minor": 2
}
